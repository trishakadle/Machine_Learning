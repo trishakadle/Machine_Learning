{
 "cells": [
  {
   "cell_type": "code",
   "execution_count": 1,
   "metadata": {
    "collapsed": true
   },
   "outputs": [],
   "source": [
    "import numpy as np \n",
    "import matplotlib.pyplot as plt \n",
    "%matplotlib inline \n",
    "from sklearn import linear_model, preprocessing\n",
    "import os\n",
    "import random"
   ]
  },
  {
   "cell_type": "code",
   "execution_count": 2,
   "metadata": {},
   "outputs": [
    {
     "name": "stderr",
     "output_type": "stream",
     "text": [
      "Using TensorFlow backend.\n"
     ]
    }
   ],
   "source": [
    "import keras"
   ]
  },
  {
   "cell_type": "code",
   "execution_count": 3,
   "metadata": {
    "collapsed": true
   },
   "outputs": [],
   "source": [
    "import librosa\n",
    "import librosa.display\n",
    "import librosa.feature"
   ]
  },
  {
   "cell_type": "code",
   "execution_count": 4,
   "metadata": {
    "collapsed": true
   },
   "outputs": [],
   "source": [
    "directory_in_str = (\"C:\\\\Users\\\\Trisha Kadle\\\\Documents\\\\Machine_Learning\\\\New folder\\\\yes\")\n",
    "fn = []\n",
    "directory_in_str1 = (\"C:\\\\Users\\\\Trisha Kadle\\\\Documents\\\\Machine_Learning\\\\New folder\\\\no\")\n",
    "fn1 = []\n",
    "\n",
    "fn2 = []\n",
    "\n",
    "directory = os.fsencode(directory_in_str) \n",
    "for file in os.listdir(directory): \n",
    "    filename = os.fsdecode(file)\n",
    "    if filename.endswith(\".wav\"): \n",
    "        fn.append(os.path.join(directory_in_str, filename))\n",
    "        \n",
    "directory1 = os.fsencode(directory_in_str1) \n",
    "for file in os.listdir(directory1): \n",
    "    filename1 = os.fsdecode(file)\n",
    "    if filename1.endswith(\".wav\"): \n",
    "        fn1.append(os.path.join(directory_in_str1, filename1))\n",
    "\n",
    "fn2 = np.concatenate((fn, fn1),axis = 0)"
   ]
  },
  {
   "cell_type": "code",
   "execution_count": 5,
   "metadata": {
    "collapsed": true
   },
   "outputs": [],
   "source": [
    "mfcc_vec = np.empty((len(fn2),20,11))\n",
    "\n",
    "for file in range(len(fn2)):\n",
    "    y, sr = librosa.load(fn2[file], mono=True, sr=None)\n",
    "    y = y[::3]\n",
    "    S = librosa.feature.mfcc(y, sr=16000)\n",
    "    pad = 11-S.shape[1]\n",
    "    S = np.pad(S,pad_width=((0,0),(0,pad)), mode='constant')\n",
    "    mfcc_vec[file] = np.r_[S]\n",
    "                  \n",
    "np.save('yes_no.npy', mfcc_vec)\n"
   ]
  },
  {
   "cell_type": "code",
   "execution_count": 6,
   "metadata": {
    "collapsed": true
   },
   "outputs": [],
   "source": [
    "yes_and_no_labels = []\n",
    "yes_labels = np.full(len(fn), 1)\n",
    "no_labels = np.full(len(fn1), 0)\n",
    "yes_and_no_labels = np.concatenate((yes_labels,no_labels),axis = 0)"
   ]
  },
  {
   "cell_type": "code",
   "execution_count": 7,
   "metadata": {
    "collapsed": true
   },
   "outputs": [],
   "source": [
    "import sklearn.model_selection\n",
    "from sklearn.model_selection import train_test_split\n",
    "X_tr, X_ts, y_tr, y_ts = train_test_split(mfcc_vec, yes_and_no_labels, test_size=0.4, random_state=42)\n"
   ]
  },
  {
   "cell_type": "code",
   "execution_count": 8,
   "metadata": {
    "collapsed": true
   },
   "outputs": [],
   "source": [
    "from keras.utils import to_categorical\n",
    "\n",
    "X_tr = X_tr.reshape(X_tr.shape[0], 20, 11, 1)\n",
    "X_ts = X_ts.reshape(X_ts.shape[0], 20, 11, 1)\n"
   ]
  },
  {
   "cell_type": "code",
   "execution_count": 9,
   "metadata": {
    "collapsed": true
   },
   "outputs": [],
   "source": [
    "from keras.models import Model, Sequential\n",
    "from keras.layers import Dense, Activation"
   ]
  },
  {
   "cell_type": "code",
   "execution_count": 10,
   "metadata": {
    "scrolled": true
   },
   "outputs": [
    {
     "name": "stdout",
     "output_type": "stream",
     "text": [
      "_________________________________________________________________\n",
      "Layer (type)                 Output Shape              Param #   \n",
      "=================================================================\n",
      "conv2d_1 (Conv2D)            (None, 19, 10, 32)        160       \n",
      "_________________________________________________________________\n",
      "dropout_1 (Dropout)          (None, 19, 10, 32)        0         \n",
      "_________________________________________________________________\n",
      "flatten_1 (Flatten)          (None, 6080)              0         \n",
      "_________________________________________________________________\n",
      "dense_1 (Dense)              (None, 128)               778368    \n",
      "_________________________________________________________________\n",
      "dropout_2 (Dropout)          (None, 128)               0         \n",
      "_________________________________________________________________\n",
      "dense_2 (Dense)              (None, 1)                 129       \n",
      "=================================================================\n",
      "Total params: 778,657\n",
      "Trainable params: 778,657\n",
      "Non-trainable params: 0\n",
      "_________________________________________________________________\n"
     ]
    }
   ],
   "source": [
    "import keras.backend as K\n",
    "from keras.layers import Conv2D, Dropout, Flatten\n",
    "from keras import optimizers\n",
    "\n",
    "\n",
    "model = Sequential()\n",
    "model.add(Conv2D(32, kernel_size=(2, 2), activation='relu', input_shape=(20, 11, 1)))\n",
    "model.add(Dropout(0.25))\n",
    "model.add(Flatten())\n",
    "model.add(Dense(128, activation='sigmoid'))\n",
    "model.add(Dropout(0.25))\n",
    "model.add(Dense(1, activation='sigmoid'))\n",
    "\n",
    "opt = optimizers.Adam(lr=0.001) # beta_1=0.9, beta_2=0.999, epsilon=1e-08, decay=0.0)\n",
    "model.compile(optimizer=opt,\n",
    "              loss='binary_crossentropy',\n",
    "              metrics=['accuracy'])\n",
    "\n",
    "model.summary()\n"
   ]
  },
  {
   "cell_type": "code",
   "execution_count": 11,
   "metadata": {},
   "outputs": [
    {
     "name": "stdout",
     "output_type": "stream",
     "text": [
      "Train on 2851 samples, validate on 1901 samples\n",
      "Epoch 1/50\n",
      "2851/2851 [==============================] - 3s 1ms/step - loss: 0.5045 - acc: 0.7569 - val_loss: 0.3381 - val_acc: 0.8669\n",
      "Epoch 2/50\n",
      "2851/2851 [==============================] - 2s 843us/step - loss: 0.3267 - acc: 0.8713 - val_loss: 0.2825 - val_acc: 0.8937\n",
      "Epoch 3/50\n",
      "2851/2851 [==============================] - 2s 827us/step - loss: 0.2825 - acc: 0.8881 - val_loss: 0.2657 - val_acc: 0.8943\n",
      "Epoch 4/50\n",
      "2851/2851 [==============================] - 2s 831us/step - loss: 0.2508 - acc: 0.9056 - val_loss: 0.2405 - val_acc: 0.9011\n",
      "Epoch 5/50\n",
      "2851/2851 [==============================] - 2s 819us/step - loss: 0.2242 - acc: 0.9148 - val_loss: 0.2388 - val_acc: 0.9022\n",
      "Epoch 6/50\n",
      "2851/2851 [==============================] - 2s 828us/step - loss: 0.2152 - acc: 0.9183 - val_loss: 0.2158 - val_acc: 0.9106\n",
      "Epoch 7/50\n",
      "2851/2851 [==============================] - 2s 807us/step - loss: 0.1885 - acc: 0.9288 - val_loss: 0.2131 - val_acc: 0.9137\n",
      "Epoch 8/50\n",
      "2851/2851 [==============================] - 2s 795us/step - loss: 0.1912 - acc: 0.9348 - val_loss: 0.2084 - val_acc: 0.9143\n",
      "Epoch 9/50\n",
      "2851/2851 [==============================] - 2s 811us/step - loss: 0.1799 - acc: 0.9306 - val_loss: 0.2058 - val_acc: 0.9132\n",
      "Epoch 10/50\n",
      "2851/2851 [==============================] - 2s 826us/step - loss: 0.1615 - acc: 0.9390 - val_loss: 0.1998 - val_acc: 0.9179\n",
      "Epoch 11/50\n",
      "2851/2851 [==============================] - 2s 825us/step - loss: 0.1779 - acc: 0.9369 - val_loss: 0.1958 - val_acc: 0.9237\n",
      "Epoch 12/50\n",
      "2851/2851 [==============================] - 2s 825us/step - loss: 0.1571 - acc: 0.9439 - val_loss: 0.1877 - val_acc: 0.9237\n",
      "Epoch 13/50\n",
      "2851/2851 [==============================] - 2s 825us/step - loss: 0.1409 - acc: 0.9474 - val_loss: 0.2023 - val_acc: 0.9206\n",
      "Epoch 14/50\n",
      "2851/2851 [==============================] - 2s 820us/step - loss: 0.1391 - acc: 0.9509 - val_loss: 0.1788 - val_acc: 0.9300\n",
      "Epoch 15/50\n",
      "2851/2851 [==============================] - 2s 820us/step - loss: 0.1267 - acc: 0.9551 - val_loss: 0.1781 - val_acc: 0.9279\n",
      "Epoch 16/50\n",
      "2851/2851 [==============================] - 2s 806us/step - loss: 0.1177 - acc: 0.9572 - val_loss: 0.1621 - val_acc: 0.9358\n",
      "Epoch 17/50\n",
      "2851/2851 [==============================] - 2s 781us/step - loss: 0.1147 - acc: 0.9555 - val_loss: 0.1746 - val_acc: 0.9269\n",
      "Epoch 18/50\n",
      "2851/2851 [==============================] - 2s 784us/step - loss: 0.1156 - acc: 0.9586 - val_loss: 0.1598 - val_acc: 0.9353\n",
      "Epoch 19/50\n",
      "2851/2851 [==============================] - 2s 795us/step - loss: 0.1065 - acc: 0.9590 - val_loss: 0.1568 - val_acc: 0.9390\n",
      "Epoch 20/50\n",
      "2851/2851 [==============================] - 2s 800us/step - loss: 0.0999 - acc: 0.9635 - val_loss: 0.1782 - val_acc: 0.9269\n",
      "Epoch 21/50\n",
      "2851/2851 [==============================] - 2s 797us/step - loss: 0.0907 - acc: 0.9712 - val_loss: 0.1501 - val_acc: 0.9390\n",
      "Epoch 22/50\n",
      "2851/2851 [==============================] - 2s 794us/step - loss: 0.0857 - acc: 0.9695 - val_loss: 0.1465 - val_acc: 0.9400\n",
      "Epoch 23/50\n",
      "2851/2851 [==============================] - 2s 796us/step - loss: 0.0830 - acc: 0.9726 - val_loss: 0.1479 - val_acc: 0.9390\n",
      "Epoch 24/50\n",
      "2851/2851 [==============================] - 2s 829us/step - loss: 0.0797 - acc: 0.9730 - val_loss: 0.1611 - val_acc: 0.9363\n",
      "Epoch 25/50\n",
      "2851/2851 [==============================] - 2s 821us/step - loss: 0.0745 - acc: 0.9772 - val_loss: 0.1423 - val_acc: 0.9448\n",
      "Epoch 26/50\n",
      "2851/2851 [==============================] - 2s 815us/step - loss: 0.0661 - acc: 0.9825 - val_loss: 0.1519 - val_acc: 0.9437\n",
      "Epoch 27/50\n",
      "2851/2851 [==============================] - 2s 814us/step - loss: 0.0716 - acc: 0.9719 - val_loss: 0.1470 - val_acc: 0.9400\n",
      "Epoch 28/50\n",
      "2851/2851 [==============================] - 2s 798us/step - loss: 0.0682 - acc: 0.9758 - val_loss: 0.1408 - val_acc: 0.9427\n",
      "Epoch 29/50\n",
      "2851/2851 [==============================] - 2s 819us/step - loss: 0.0706 - acc: 0.9705 - val_loss: 0.1369 - val_acc: 0.9474\n",
      "Epoch 30/50\n",
      "2851/2851 [==============================] - 2s 812us/step - loss: 0.0644 - acc: 0.9800 - val_loss: 0.1434 - val_acc: 0.9385\n",
      "Epoch 31/50\n",
      "2851/2851 [==============================] - 2s 790us/step - loss: 0.0533 - acc: 0.9839 - val_loss: 0.1392 - val_acc: 0.9448\n",
      "Epoch 32/50\n",
      "2851/2851 [==============================] - 2s 813us/step - loss: 0.0485 - acc: 0.9863 - val_loss: 0.1344 - val_acc: 0.9474\n",
      "Epoch 33/50\n",
      "2851/2851 [==============================] - 2s 812us/step - loss: 0.0452 - acc: 0.9881 - val_loss: 0.1397 - val_acc: 0.9458\n",
      "Epoch 34/50\n",
      "2851/2851 [==============================] - 2s 782us/step - loss: 0.0456 - acc: 0.9881 - val_loss: 0.1344 - val_acc: 0.9453\n",
      "Epoch 35/50\n",
      "2851/2851 [==============================] - 2s 808us/step - loss: 0.0374 - acc: 0.9898 - val_loss: 0.1431 - val_acc: 0.9484\n",
      "Epoch 36/50\n",
      "2851/2851 [==============================] - 2s 809us/step - loss: 0.0408 - acc: 0.9863 - val_loss: 0.1484 - val_acc: 0.9479\n",
      "Epoch 37/50\n",
      "2851/2851 [==============================] - 2s 813us/step - loss: 0.0366 - acc: 0.9909 - val_loss: 0.1384 - val_acc: 0.9516\n",
      "Epoch 38/50\n",
      "2851/2851 [==============================] - 2s 814us/step - loss: 0.0377 - acc: 0.9895 - val_loss: 0.1416 - val_acc: 0.9490\n",
      "Epoch 39/50\n",
      "2851/2851 [==============================] - 2s 811us/step - loss: 0.0388 - acc: 0.9881 - val_loss: 0.1423 - val_acc: 0.9453\n",
      "Epoch 40/50\n",
      "2851/2851 [==============================] - 2s 805us/step - loss: 0.0333 - acc: 0.9916 - val_loss: 0.1315 - val_acc: 0.9500\n",
      "Epoch 41/50\n",
      "2851/2851 [==============================] - 2s 799us/step - loss: 0.0327 - acc: 0.9926 - val_loss: 0.1466 - val_acc: 0.9506\n",
      "Epoch 42/50\n",
      "2851/2851 [==============================] - 2s 818us/step - loss: 0.0285 - acc: 0.9933 - val_loss: 0.1425 - val_acc: 0.9490\n",
      "Epoch 43/50\n",
      "2851/2851 [==============================] - 2s 818us/step - loss: 0.0313 - acc: 0.9937 - val_loss: 0.1354 - val_acc: 0.9506\n",
      "Epoch 44/50\n",
      "2851/2851 [==============================] - 2s 756us/step - loss: 0.0315 - acc: 0.9923 - val_loss: 0.1421 - val_acc: 0.9484\n",
      "Epoch 45/50\n",
      "2851/2851 [==============================] - 2s 803us/step - loss: 0.0287 - acc: 0.9912 - val_loss: 0.1336 - val_acc: 0.9506\n",
      "Epoch 46/50\n",
      "2851/2851 [==============================] - 2s 799us/step - loss: 0.0289 - acc: 0.9933 - val_loss: 0.1381 - val_acc: 0.9511\n",
      "Epoch 47/50\n",
      "2851/2851 [==============================] - 2s 792us/step - loss: 0.0285 - acc: 0.9926 - val_loss: 0.1396 - val_acc: 0.9490\n",
      "Epoch 48/50\n",
      "2851/2851 [==============================] - 2s 790us/step - loss: 0.0263 - acc: 0.9947 - val_loss: 0.1386 - val_acc: 0.9506\n",
      "Epoch 49/50\n",
      "2851/2851 [==============================] - 2s 784us/step - loss: 0.0257 - acc: 0.9926 - val_loss: 0.1364 - val_acc: 0.9521\n",
      "Epoch 50/50\n",
      "2851/2851 [==============================] - 2s 789us/step - loss: 0.0229 - acc: 0.9961 - val_loss: 0.1380 - val_acc: 0.9532\n"
     ]
    },
    {
     "data": {
      "text/plain": [
       "<keras.callbacks.History at 0x162598b8c18>"
      ]
     },
     "execution_count": 11,
     "metadata": {},
     "output_type": "execute_result"
    }
   ],
   "source": [
    "model.fit(X_tr, y_tr, batch_size=100, epochs=50, verbose=1, validation_data=(X_ts, y_ts))\n"
   ]
  },
  {
   "cell_type": "code",
   "execution_count": 27,
   "metadata": {},
   "outputs": [
    {
     "name": "stdout",
     "output_type": "stream",
     "text": [
      "Start Recording\n",
      "Done\n"
     ]
    },
    {
     "data": {
      "text/html": [
       "\n",
       "                <audio controls=\"controls\" >\n",
       "                    <source src=\"data:audio/wav;base64,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\" type=\"audio/wav\" />\n",
       "                    Your browser does not support the audio element.\n",
       "                </audio>\n",
       "              "
      ],
      "text/plain": [
       "<IPython.lib.display.Audio object>"
      ]
     },
     "execution_count": 27,
     "metadata": {},
     "output_type": "execute_result"
    }
   ],
   "source": [
    "from IPython.display import Audio\n",
    "import pyaudio\n",
    "import wave\n",
    "\n",
    "duration = 1  # seconds\n",
    "FORMAT = pyaudio.paInt16\n",
    "CHANNELS = 1\n",
    "RATE = 16000\n",
    "DURATION = 1\n",
    "BLOCKSIZE = 1024\n",
    "WAVE_OUTPUT_FILENAME = \"file.wav\"\n",
    "\n",
    "p = pyaudio.PyAudio()\n",
    "\n",
    "stream = p.open(format=FORMAT,\n",
    "                channels=CHANNELS,\n",
    "                rate=RATE,\n",
    "                input=True,\n",
    "                frames_per_buffer=BLOCKSIZE)\n",
    "\n",
    "print(\"Start Recording\")\n",
    "\n",
    "frames = []\n",
    "\n",
    "for i in range(0, int(RATE / BLOCKSIZE * DURATION)):\n",
    "    data = stream.read(BLOCKSIZE)\n",
    "    frames.append(data)\n",
    "\n",
    "print(\"Done\")\n",
    "\n",
    "stream.stop_stream()\n",
    "stream.close()\n",
    "p.terminate()\n",
    "\n",
    "wf = wave.open(WAVE_OUTPUT_FILENAME, 'wb')\n",
    "wf.setnchannels(CHANNELS)\n",
    "wf.setsampwidth(p.get_sample_size(FORMAT))\n",
    "wf.setframerate(RATE)\n",
    "wf.writeframes(b''.join(frames))\n",
    "wf.close()\n",
    "\n",
    "fn_samp = \"C:\\\\Anaconda3\\\\Scripts\\\\file.wav\"\n",
    "Audio(fn_samp, rate=RATE)"
   ]
  },
  {
   "cell_type": "code",
   "execution_count": 28,
   "metadata": {},
   "outputs": [
    {
     "name": "stdout",
     "output_type": "stream",
     "text": [
      "You said YES\n"
     ]
    }
   ],
   "source": [
    "fn_samp = \"C:\\\\Anaconda3\\\\Scripts\\\\file.wav\"\n",
    "mfcc_vec = np.empty((1,20,11))\n",
    "\n",
    "y, sr = librosa.load(fn_samp, mono=True, sr=None)\n",
    "y = y[::3]\n",
    "S = librosa.feature.mfcc(y, sr=16000)\n",
    "pad = 11-S.shape[1]\n",
    "S = np.pad(S,pad_width=((0,0),(0,pad)), mode='constant')\n",
    "mfcc_samp = S\n",
    "\n",
    "sample_reshaped = mfcc_samp.reshape(1, 20, 11, 1)\n",
    "\n",
    "output = np.around(model.predict(sample_reshaped))\n",
    "\n",
    "if (output == 1):\n",
    "    print(\"You said YES\")\n",
    "if (output == 0):\n",
    "    print(\"You said NO\")"
   ]
  },
  {
   "cell_type": "code",
   "execution_count": null,
   "metadata": {
    "collapsed": true
   },
   "outputs": [],
   "source": []
  }
 ],
 "metadata": {
  "kernelspec": {
   "display_name": "Python 3",
   "language": "python",
   "name": "python3"
  },
  "language_info": {
   "codemirror_mode": {
    "name": "ipython",
    "version": 3
   },
   "file_extension": ".py",
   "mimetype": "text/x-python",
   "name": "python",
   "nbconvert_exporter": "python",
   "pygments_lexer": "ipython3",
   "version": "3.6.1"
  }
 },
 "nbformat": 4,
 "nbformat_minor": 2
}
