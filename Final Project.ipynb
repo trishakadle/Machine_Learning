{
 "cells": [
  {
   "cell_type": "markdown",
   "metadata": {},
   "source": [
    "# Speech Recognition Between YES and NO\n",
    "Using the Librosa and the Conv2D package in Keras, make a prediction on whether someone has said the word 'yes' or the word 'no'\n",
    "\n",
    "First, I loaded Keras and the necessary Keras packages:"
   ]
  },
  {
   "cell_type": "code",
   "execution_count": 1,
   "metadata": {},
   "outputs": [
    {
     "name": "stderr",
     "output_type": "stream",
     "text": [
      "Using TensorFlow backend.\n"
     ]
    }
   ],
   "source": [
    "import keras"
   ]
  },
  {
   "cell_type": "code",
   "execution_count": 2,
   "metadata": {
    "collapsed": true
   },
   "outputs": [],
   "source": [
    "import librosa\n",
    "import librosa.display\n",
    "import librosa.feature"
   ]
  },
  {
   "cell_type": "code",
   "execution_count": 3,
   "metadata": {
    "collapsed": true
   },
   "outputs": [],
   "source": [
    "import numpy as np \n",
    "import os\n",
    "import random"
   ]
  },
  {
   "cell_type": "markdown",
   "metadata": {},
   "source": [
    "## Obtaining the Dataset\n",
    "\n",
    "The dataset was obtained from the Google Research Blog. Here is the link to the blog: https://research.googleblog.com/2017/08/launching-speech-commands-dataset.html\n",
    "\n",
    "The dataset was downloaded as a .tar file so the file had to be untarred for the correct data to be extracted. The file contained many other words but only the 'yes' and 'no' folders were used for this project. The 'yes' and 'no' folders were copied into my local directory. The path to each audio file inside each folder were loaded into an array and that array was concatenated into one large array.\n",
    "\n",
    "A model for speech recognition was found in this blog: \n",
    "https://blog.manash.me/building-a-dead-simple-word-recognition-engine-using-convnet-in-keras-25e72c19c12b\n",
    "Modifications were made to the code as shown below:"
   ]
  },
  {
   "cell_type": "code",
   "execution_count": 4,
   "metadata": {
    "collapsed": true
   },
   "outputs": [],
   "source": [
    "directory_in_str = (\"C:\\\\Users\\\\Trisha Kadle\\\\Documents\\\\Machine_Learning\\\\New folder\\\\yes\")\n",
    "fn = []\n",
    "directory_in_str1 = (\"C:\\\\Users\\\\Trisha Kadle\\\\Documents\\\\Machine_Learning\\\\New folder\\\\no\")\n",
    "fn1 = []\n",
    "\n",
    "fn2 = []\n",
    "\n",
    "directory = os.fsencode(directory_in_str) \n",
    "for file in os.listdir(directory): \n",
    "    filename = os.fsdecode(file)\n",
    "    if filename.endswith(\".wav\"): \n",
    "        fn.append(os.path.join(directory_in_str, filename))\n",
    "        \n",
    "directory1 = os.fsencode(directory_in_str1) \n",
    "for file in os.listdir(directory1): \n",
    "    filename1 = os.fsdecode(file)\n",
    "    if filename1.endswith(\".wav\"): \n",
    "        fn1.append(os.path.join(directory_in_str1, filename1))\n",
    "\n",
    "fn2 = np.concatenate((fn, fn1),axis = 0)"
   ]
  },
  {
   "cell_type": "markdown",
   "metadata": {},
   "source": [
    "## Getting the MFCC \n",
    "\n",
    "For each audio the MFCC (Mel-freqeuncy cepstral coefficients) had to be found. The MFCC are coefficients that easily map audio based on the different frequencies present in the audio. The following steps were taken to find the MFCC:\n",
    "* Each audio file in fn2 was loaded using Librosa\n",
    "* A downsample operation was performed to reduce the amount of computing power needed\n",
    "* The MFCC was found using Librosa\n",
    "* The MFCC vector was zero padded to so that respective MFCC vectors would be the same length\n",
    "* The MFCC for that sample is saved in a larger MFCC_vec containing the MFCC values for all the audio samples\n"
   ]
  },
  {
   "cell_type": "code",
   "execution_count": 5,
   "metadata": {},
   "outputs": [],
   "source": [
    "mfcc_vec = np.empty((len(fn2),20,11))\n",
    "\n",
    "for file in range(len(fn2)):\n",
    "    y, sr = librosa.load(fn2[file], mono=True, sr=None)\n",
    "    y = y[::3]\n",
    "    S = librosa.feature.mfcc(y, sr=16000)\n",
    "    pad = 11-S.shape[1]\n",
    "    S = np.pad(S,pad_width=((0,0),(0,pad)), mode='constant')\n",
    "    mfcc_vec[file] = np.r_[S]\n",
    "                  \n",
    "np.save('yes_no.npy', mfcc_vec)\n"
   ]
  },
  {
   "cell_type": "markdown",
   "metadata": {},
   "source": [
    "## Create a 'Labels' Array\n",
    "\n",
    "An array containing the labels for each audio sample was created. If the audio sample was a 'yes', the corresponding label would be a 1. If the audio sample was a 'no', the corresponding label would be a 0. The number of yes and no labels to add were based on the length of the arrays containing to paths to each 'yes' and 'no' audio files. "
   ]
  },
  {
   "cell_type": "code",
   "execution_count": 6,
   "metadata": {},
   "outputs": [],
   "source": [
    "yes_and_no_labels = []\n",
    "yes_labels = np.full(len(fn), 1)\n",
    "no_labels = np.full(len(fn1), 0)\n",
    "yes_and_no_labels = np.concatenate((yes_labels,no_labels),axis = 0)"
   ]
  },
  {
   "cell_type": "markdown",
   "metadata": {},
   "source": [
    "## Create Training and Test Data\n",
    "\n",
    "To sklearn package was used to create the training and test data. The built in function train_test_split was used to appropariately shuffle and then split the total data into 60% training data and 40% test data.\n",
    "(The default value of shuffle is TRUE) "
   ]
  },
  {
   "cell_type": "code",
   "execution_count": 7,
   "metadata": {},
   "outputs": [],
   "source": [
    "import sklearn.model_selection\n",
    "from sklearn.model_selection import train_test_split\n",
    "X_tr, X_ts, y_tr, y_ts = train_test_split(mfcc_vec, yes_and_no_labels, test_size=0.4)\n"
   ]
  },
  {
   "cell_type": "markdown",
   "metadata": {},
   "source": [
    "## Reshaping the data\n",
    "\n",
    "In order to train the data using Conv2D, the data had to be reshaped to be four dimensional. To do this, the reshape function was used to add a fourth dimension to the already existing shape of (number_of_samples, 20, 11). "
   ]
  },
  {
   "cell_type": "code",
   "execution_count": 8,
   "metadata": {
    "collapsed": true
   },
   "outputs": [],
   "source": [
    "from keras.utils import to_categorical\n",
    "\n",
    "X_tr = X_tr.reshape(X_tr.shape[0], 20, 11, 1)\n",
    "X_ts = X_ts.reshape(X_ts.shape[0], 20, 11, 1)\n"
   ]
  },
  {
   "cell_type": "markdown",
   "metadata": {},
   "source": [
    "## Training the Data\n",
    "\n",
    "The appropriate functions were loaded from Keras. \n",
    "Conv2D was used with two dense layers. The optimizer chosen was the Adam opitmizer and binary crossentropy was used because the desired results is either a 0 or 1. If more than two words were being classified, categorical crossentropy would have been used. The model summary is printed below. "
   ]
  },
  {
   "cell_type": "code",
   "execution_count": 9,
   "metadata": {
    "collapsed": true
   },
   "outputs": [],
   "source": [
    "from keras.models import Model, Sequential\n",
    "from keras.layers import Conv2D, Dropout, Flatten, Dense, Activation\n",
    "from keras import optimizers"
   ]
  },
  {
   "cell_type": "code",
   "execution_count": 10,
   "metadata": {
    "scrolled": true
   },
   "outputs": [
    {
     "name": "stdout",
     "output_type": "stream",
     "text": [
      "_________________________________________________________________\n",
      "Layer (type)                 Output Shape              Param #   \n",
      "=================================================================\n",
      "conv2d_1 (Conv2D)            (None, 19, 10, 32)        160       \n",
      "_________________________________________________________________\n",
      "dropout_1 (Dropout)          (None, 19, 10, 32)        0         \n",
      "_________________________________________________________________\n",
      "flatten_1 (Flatten)          (None, 6080)              0         \n",
      "_________________________________________________________________\n",
      "dense_1 (Dense)              (None, 128)               778368    \n",
      "_________________________________________________________________\n",
      "dropout_2 (Dropout)          (None, 128)               0         \n",
      "_________________________________________________________________\n",
      "dense_2 (Dense)              (None, 1)                 129       \n",
      "=================================================================\n",
      "Total params: 778,657\n",
      "Trainable params: 778,657\n",
      "Non-trainable params: 0\n",
      "_________________________________________________________________\n"
     ]
    }
   ],
   "source": [
    "model = Sequential()\n",
    "model.add(Conv2D(32, kernel_size=(2, 2), activation='relu', input_shape=(20, 11, 1)))\n",
    "model.add(Dropout(0.25))\n",
    "model.add(Flatten())\n",
    "model.add(Dense(128, activation='sigmoid'))\n",
    "model.add(Dropout(0.25))\n",
    "model.add(Dense(1, activation='sigmoid'))\n",
    "\n",
    "opt = optimizers.Adam(lr=0.001) # beta_1=0.9, beta_2=0.999, epsilon=1e-08, decay=0.0)\n",
    "model.compile(optimizer=opt,\n",
    "              loss='binary_crossentropy',\n",
    "              metrics=['accuracy'])\n",
    "\n",
    "model.summary()\n"
   ]
  },
  {
   "cell_type": "markdown",
   "metadata": {},
   "source": [
    "## Getting the Model Accruacy \n",
    "\n",
    "The training data was then used to test the remaining data using the model created above. 100 Epochs were used with a batch size of 100. The model begins to saturate around Epoch 85 and ends with a final validation accuracy of 96.11%."
   ]
  },
  {
   "cell_type": "code",
   "execution_count": 11,
   "metadata": {},
   "outputs": [
    {
     "name": "stdout",
     "output_type": "stream",
     "text": [
      "Train on 2851 samples, validate on 1901 samples\n",
      "Epoch 1/100\n",
      "2851/2851 [==============================] - 3s 1ms/step - loss: 0.5951 - acc: 0.6998 - val_loss: 0.3857 - val_acc: 0.8611\n",
      "Epoch 2/100\n",
      "2851/2851 [==============================] - 2s 825us/step - loss: 0.3672 - acc: 0.8558 - val_loss: 0.2781 - val_acc: 0.8964\n",
      "Epoch 3/100\n",
      "2851/2851 [==============================] - 2s 816us/step - loss: 0.2836 - acc: 0.8888 - val_loss: 0.2347 - val_acc: 0.9095\n",
      "Epoch 4/100\n",
      "2851/2851 [==============================] - 2s 871us/step - loss: 0.2394 - acc: 0.9074 - val_loss: 0.2191 - val_acc: 0.9148\n",
      "Epoch 5/100\n",
      "2851/2851 [==============================] - 2s 818us/step - loss: 0.2205 - acc: 0.9158 - val_loss: 0.2002 - val_acc: 0.9221\n",
      "Epoch 6/100\n",
      "2851/2851 [==============================] - 2s 803us/step - loss: 0.1976 - acc: 0.9263 - val_loss: 0.1894 - val_acc: 0.9290\n",
      "Epoch 7/100\n",
      "2851/2851 [==============================] - 2s 800us/step - loss: 0.1773 - acc: 0.9323 - val_loss: 0.1898 - val_acc: 0.9237\n",
      "Epoch 8/100\n",
      "2851/2851 [==============================] - 2s 816us/step - loss: 0.1646 - acc: 0.9411 - val_loss: 0.1844 - val_acc: 0.9300\n",
      "Epoch 9/100\n",
      "2851/2851 [==============================] - 2s 856us/step - loss: 0.1594 - acc: 0.9421 - val_loss: 0.1684 - val_acc: 0.9311\n",
      "Epoch 10/100\n",
      "2851/2851 [==============================] - 2s 799us/step - loss: 0.1465 - acc: 0.9474 - val_loss: 0.1578 - val_acc: 0.9348\n",
      "Epoch 11/100\n",
      "2851/2851 [==============================] - 2s 830us/step - loss: 0.1265 - acc: 0.9533 - val_loss: 0.1516 - val_acc: 0.9358\n",
      "Epoch 12/100\n",
      "2851/2851 [==============================] - 2s 809us/step - loss: 0.1252 - acc: 0.9555 - val_loss: 0.1527 - val_acc: 0.9353\n",
      "Epoch 13/100\n",
      "2851/2851 [==============================] - 2s 809us/step - loss: 0.1175 - acc: 0.9544 - val_loss: 0.1421 - val_acc: 0.9442\n",
      "Epoch 14/100\n",
      "2851/2851 [==============================] - 2s 807us/step - loss: 0.1062 - acc: 0.9642 - val_loss: 0.1451 - val_acc: 0.9416\n",
      "Epoch 15/100\n",
      "2851/2851 [==============================] - 2s 795us/step - loss: 0.0985 - acc: 0.9670 - val_loss: 0.1456 - val_acc: 0.9400\n",
      "Epoch 16/100\n",
      "2851/2851 [==============================] - 2s 802us/step - loss: 0.0898 - acc: 0.9705 - val_loss: 0.1334 - val_acc: 0.9474\n",
      "Epoch 17/100\n",
      "2851/2851 [==============================] - 2s 802us/step - loss: 0.0813 - acc: 0.9744 - val_loss: 0.1318 - val_acc: 0.9474\n",
      "Epoch 18/100\n",
      "2851/2851 [==============================] - 2s 807us/step - loss: 0.0752 - acc: 0.9765 - val_loss: 0.1326 - val_acc: 0.9484\n",
      "Epoch 19/100\n",
      "2851/2851 [==============================] - 2s 795us/step - loss: 0.0718 - acc: 0.9761 - val_loss: 0.1278 - val_acc: 0.9490\n",
      "Epoch 20/100\n",
      "2851/2851 [==============================] - 2s 801us/step - loss: 0.0698 - acc: 0.9761 - val_loss: 0.1237 - val_acc: 0.9506\n",
      "Epoch 21/100\n",
      "2851/2851 [==============================] - 2s 802us/step - loss: 0.0629 - acc: 0.9818 - val_loss: 0.1205 - val_acc: 0.9527\n",
      "Epoch 22/100\n",
      "2851/2851 [==============================] - 2s 801us/step - loss: 0.0554 - acc: 0.9804 - val_loss: 0.1214 - val_acc: 0.9521\n",
      "Epoch 23/100\n",
      "2851/2851 [==============================] - 2s 795us/step - loss: 0.0548 - acc: 0.9828 - val_loss: 0.1162 - val_acc: 0.9527\n",
      "Epoch 24/100\n",
      "2851/2851 [==============================] - 2s 789us/step - loss: 0.0477 - acc: 0.9874 - val_loss: 0.1138 - val_acc: 0.9553\n",
      "Epoch 25/100\n",
      "2851/2851 [==============================] - 2s 799us/step - loss: 0.0470 - acc: 0.9849 - val_loss: 0.1205 - val_acc: 0.9495\n",
      "Epoch 26/100\n",
      "2851/2851 [==============================] - 2s 805us/step - loss: 0.0443 - acc: 0.9874 - val_loss: 0.1152 - val_acc: 0.9558\n",
      "Epoch 27/100\n",
      "2851/2851 [==============================] - 2s 796us/step - loss: 0.0409 - acc: 0.9902 - val_loss: 0.1144 - val_acc: 0.9542\n",
      "Epoch 28/100\n",
      "2851/2851 [==============================] - 2s 786us/step - loss: 0.0346 - acc: 0.9905 - val_loss: 0.1136 - val_acc: 0.9569\n",
      "Epoch 29/100\n",
      "2851/2851 [==============================] - 2s 801us/step - loss: 0.0382 - acc: 0.9905 - val_loss: 0.1112 - val_acc: 0.9563\n",
      "Epoch 30/100\n",
      "2851/2851 [==============================] - 2s 796us/step - loss: 0.0358 - acc: 0.9895 - val_loss: 0.1127 - val_acc: 0.9569\n",
      "Epoch 31/100\n",
      "2851/2851 [==============================] - 2s 794us/step - loss: 0.0338 - acc: 0.9916 - val_loss: 0.1111 - val_acc: 0.9574\n",
      "Epoch 32/100\n",
      "2851/2851 [==============================] - 2s 806us/step - loss: 0.0263 - acc: 0.9958 - val_loss: 0.1146 - val_acc: 0.9527\n",
      "Epoch 33/100\n",
      "2851/2851 [==============================] - 2s 800us/step - loss: 0.0316 - acc: 0.9912 - val_loss: 0.1136 - val_acc: 0.9511\n",
      "Epoch 34/100\n",
      "2851/2851 [==============================] - 2s 803us/step - loss: 0.0275 - acc: 0.9940 - val_loss: 0.1170 - val_acc: 0.9542\n",
      "Epoch 35/100\n",
      "2851/2851 [==============================] - 2s 796us/step - loss: 0.0233 - acc: 0.9954 - val_loss: 0.1138 - val_acc: 0.9537\n",
      "Epoch 36/100\n",
      "2851/2851 [==============================] - 2s 796us/step - loss: 0.0242 - acc: 0.9937 - val_loss: 0.1126 - val_acc: 0.9558\n",
      "Epoch 37/100\n",
      "2851/2851 [==============================] - 2s 794us/step - loss: 0.0252 - acc: 0.9944 - val_loss: 0.1111 - val_acc: 0.9574\n",
      "Epoch 38/100\n",
      "2851/2851 [==============================] - 2s 796us/step - loss: 0.0215 - acc: 0.9958 - val_loss: 0.1094 - val_acc: 0.9574\n",
      "Epoch 39/100\n",
      "2851/2851 [==============================] - 2s 789us/step - loss: 0.0215 - acc: 0.9965 - val_loss: 0.1109 - val_acc: 0.9569\n",
      "Epoch 40/100\n",
      "2851/2851 [==============================] - 2s 791us/step - loss: 0.0210 - acc: 0.9951 - val_loss: 0.1131 - val_acc: 0.9558\n",
      "Epoch 41/100\n",
      "2851/2851 [==============================] - 2s 784us/step - loss: 0.0191 - acc: 0.9951 - val_loss: 0.1070 - val_acc: 0.96000.0195 - acc:\n",
      "Epoch 42/100\n",
      "2851/2851 [==============================] - 2s 800us/step - loss: 0.0171 - acc: 0.9965 - val_loss: 0.1055 - val_acc: 0.9569\n",
      "Epoch 43/100\n",
      "2851/2851 [==============================] - 2s 791us/step - loss: 0.0186 - acc: 0.9947 - val_loss: 0.1064 - val_acc: 0.9590\n",
      "Epoch 44/100\n",
      "2851/2851 [==============================] - 2s 795us/step - loss: 0.0144 - acc: 0.9982 - val_loss: 0.1084 - val_acc: 0.9611\n",
      "Epoch 45/100\n",
      "2851/2851 [==============================] - 2s 795us/step - loss: 0.0192 - acc: 0.9965 - val_loss: 0.1068 - val_acc: 0.9590\n",
      "Epoch 46/100\n",
      "2851/2851 [==============================] - 2s 800us/step - loss: 0.0161 - acc: 0.9968 - val_loss: 0.1053 - val_acc: 0.9600\n",
      "Epoch 47/100\n",
      "2851/2851 [==============================] - 2s 775us/step - loss: 0.0156 - acc: 0.9965 - val_loss: 0.1103 - val_acc: 0.9627\n",
      "Epoch 48/100\n",
      "2851/2851 [==============================] - 2s 789us/step - loss: 0.0128 - acc: 0.9989 - val_loss: 0.1043 - val_acc: 0.9621\n",
      "Epoch 49/100\n",
      "2851/2851 [==============================] - 2s 796us/step - loss: 0.0136 - acc: 0.9979 - val_loss: 0.1070 - val_acc: 0.9627\n",
      "Epoch 50/100\n",
      "2851/2851 [==============================] - 2s 791us/step - loss: 0.0118 - acc: 0.9986 - val_loss: 0.1107 - val_acc: 0.9621\n",
      "Epoch 51/100\n",
      "2851/2851 [==============================] - 2s 787us/step - loss: 0.0137 - acc: 0.9975 - val_loss: 0.1133 - val_acc: 0.9627\n",
      "Epoch 52/100\n",
      "2851/2851 [==============================] - 2s 770us/step - loss: 0.0121 - acc: 0.9986 - val_loss: 0.1149 - val_acc: 0.9600\n",
      "Epoch 53/100\n",
      "2851/2851 [==============================] - 2s 760us/step - loss: 0.0115 - acc: 0.9982 - val_loss: 0.1154 - val_acc: 0.9600\n",
      "Epoch 54/100\n",
      "2851/2851 [==============================] - 2s 766us/step - loss: 0.0139 - acc: 0.9975 - val_loss: 0.1136 - val_acc: 0.9584\n",
      "Epoch 55/100\n",
      "2851/2851 [==============================] - 2s 763us/step - loss: 0.0147 - acc: 0.9968 - val_loss: 0.1177 - val_acc: 0.9569\n",
      "Epoch 56/100\n",
      "2851/2851 [==============================] - 2s 774us/step - loss: 0.0133 - acc: 0.9972 - val_loss: 0.1155 - val_acc: 0.9584\n",
      "Epoch 57/100\n",
      "2851/2851 [==============================] - 2s 767us/step - loss: 0.0108 - acc: 0.9979 - val_loss: 0.1088 - val_acc: 0.9621\n",
      "Epoch 58/100\n",
      "2851/2851 [==============================] - 2s 760us/step - loss: 0.0144 - acc: 0.9972 - val_loss: 0.1118 - val_acc: 0.9611\n",
      "Epoch 59/100\n",
      "2851/2851 [==============================] - 2s 766us/step - loss: 0.0125 - acc: 0.9982 - val_loss: 0.1151 - val_acc: 0.9584\n",
      "Epoch 60/100\n"
     ]
    },
    {
     "name": "stdout",
     "output_type": "stream",
     "text": [
      "2851/2851 [==============================] - 2s 801us/step - loss: 0.0096 - acc: 0.9986 - val_loss: 0.1119 - val_acc: 0.9642\n",
      "Epoch 61/100\n",
      "2851/2851 [==============================] - 2s 823us/step - loss: 0.0090 - acc: 0.9989 - val_loss: 0.1104 - val_acc: 0.9627\n",
      "Epoch 62/100\n",
      "2851/2851 [==============================] - 2s 843us/step - loss: 0.0098 - acc: 0.9986 - val_loss: 0.1124 - val_acc: 0.9621\n",
      "Epoch 63/100\n",
      "2851/2851 [==============================] - 2s 842us/step - loss: 0.0108 - acc: 0.9975 - val_loss: 0.1152 - val_acc: 0.9579\n",
      "Epoch 64/100\n",
      "2851/2851 [==============================] - 2s 813us/step - loss: 0.0096 - acc: 0.9986 - val_loss: 0.1178 - val_acc: 0.9590\n",
      "Epoch 65/100\n",
      "2851/2851 [==============================] - 2s 819us/step - loss: 0.0099 - acc: 0.9979 - val_loss: 0.1101 - val_acc: 0.9611\n",
      "Epoch 66/100\n",
      "2851/2851 [==============================] - 2s 850us/step - loss: 0.0088 - acc: 0.9993 - val_loss: 0.1143 - val_acc: 0.9632\n",
      "Epoch 67/100\n",
      "2851/2851 [==============================] - 2s 798us/step - loss: 0.0082 - acc: 0.9989 - val_loss: 0.1117 - val_acc: 0.9605\n",
      "Epoch 68/100\n",
      "2851/2851 [==============================] - 2s 806us/step - loss: 0.0081 - acc: 0.9989 - val_loss: 0.1139 - val_acc: 0.9611\n",
      "Epoch 69/100\n",
      "2851/2851 [==============================] - 2s 804us/step - loss: 0.0071 - acc: 0.9989 - val_loss: 0.1178 - val_acc: 0.9632\n",
      "Epoch 70/100\n",
      "2851/2851 [==============================] - 2s 809us/step - loss: 0.0086 - acc: 0.9982 - val_loss: 0.1115 - val_acc: 0.9632\n",
      "Epoch 71/100\n",
      "2851/2851 [==============================] - 2s 808us/step - loss: 0.0073 - acc: 0.9996 - val_loss: 0.1167 - val_acc: 0.9605\n",
      "Epoch 72/100\n",
      "2851/2851 [==============================] - 2s 792us/step - loss: 0.0069 - acc: 0.9986 - val_loss: 0.1206 - val_acc: 0.9579\n",
      "Epoch 73/100\n",
      "2851/2851 [==============================] - 2s 800us/step - loss: 0.0079 - acc: 0.9993 - val_loss: 0.1136 - val_acc: 0.9590\n",
      "Epoch 74/100\n",
      "2851/2851 [==============================] - 2s 813us/step - loss: 0.0077 - acc: 0.9989 - val_loss: 0.1159 - val_acc: 0.9600\n",
      "Epoch 75/100\n",
      "2851/2851 [==============================] - 2s 804us/step - loss: 0.0065 - acc: 0.9993 - val_loss: 0.1138 - val_acc: 0.9590\n",
      "Epoch 76/100\n",
      "2851/2851 [==============================] - 2s 804us/step - loss: 0.0076 - acc: 0.9993 - val_loss: 0.1150 - val_acc: 0.9590\n",
      "Epoch 77/100\n",
      "2851/2851 [==============================] - 2s 807us/step - loss: 0.0082 - acc: 0.9986 - val_loss: 0.1179 - val_acc: 0.9605\n",
      "Epoch 78/100\n",
      "2851/2851 [==============================] - 2s 812us/step - loss: 0.0071 - acc: 0.9996 - val_loss: 0.1161 - val_acc: 0.9590\n",
      "Epoch 79/100\n",
      "2851/2851 [==============================] - 2s 797us/step - loss: 0.0076 - acc: 0.9986 - val_loss: 0.1168 - val_acc: 0.9616\n",
      "Epoch 80/100\n",
      "2851/2851 [==============================] - 2s 800us/step - loss: 0.0067 - acc: 0.9989 - val_loss: 0.1190 - val_acc: 0.9590\n",
      "Epoch 81/100\n",
      "2851/2851 [==============================] - 2s 810us/step - loss: 0.0107 - acc: 0.9975 - val_loss: 0.1180 - val_acc: 0.9563\n",
      "Epoch 82/100\n",
      "2851/2851 [==============================] - 2s 781us/step - loss: 0.0072 - acc: 0.9996 - val_loss: 0.1136 - val_acc: 0.9605\n",
      "Epoch 83/100\n",
      "2851/2851 [==============================] - 2s 801us/step - loss: 0.0076 - acc: 0.9989 - val_loss: 0.1123 - val_acc: 0.9611\n",
      "Epoch 84/100\n",
      "2851/2851 [==============================] - 2s 795us/step - loss: 0.0056 - acc: 0.9996 - val_loss: 0.1173 - val_acc: 0.9605\n",
      "Epoch 85/100\n",
      "2851/2851 [==============================] - 2s 816us/step - loss: 0.0057 - acc: 0.9993 - val_loss: 0.1143 - val_acc: 0.9632\n",
      "Epoch 86/100\n",
      "2851/2851 [==============================] - 2s 814us/step - loss: 0.0082 - acc: 0.9989 - val_loss: 0.1277 - val_acc: 0.9584\n",
      "Epoch 87/100\n",
      "2851/2851 [==============================] - 2s 810us/step - loss: 0.0088 - acc: 0.9989 - val_loss: 0.1157 - val_acc: 0.9653\n",
      "Epoch 88/100\n",
      "2851/2851 [==============================] - 2s 802us/step - loss: 0.0059 - acc: 0.9993 - val_loss: 0.1147 - val_acc: 0.9653\n",
      "Epoch 89/100\n",
      "2851/2851 [==============================] - 2s 797us/step - loss: 0.0061 - acc: 0.9989 - val_loss: 0.1172 - val_acc: 0.9595\n",
      "Epoch 90/100\n",
      "2851/2851 [==============================] - 2s 801us/step - loss: 0.0071 - acc: 0.9979 - val_loss: 0.1143 - val_acc: 0.9632\n",
      "Epoch 91/100\n",
      "2851/2851 [==============================] - 2s 801us/step - loss: 0.0066 - acc: 0.9996 - val_loss: 0.1156 - val_acc: 0.9616\n",
      "Epoch 92/100\n",
      "2851/2851 [==============================] - 2s 802us/step - loss: 0.0064 - acc: 0.9986 - val_loss: 0.1145 - val_acc: 0.9605\n",
      "Epoch 93/100\n",
      "2851/2851 [==============================] - 2s 783us/step - loss: 0.0058 - acc: 0.9996 - val_loss: 0.1146 - val_acc: 0.9627\n",
      "Epoch 94/100\n",
      "2851/2851 [==============================] - 2s 783us/step - loss: 0.0054 - acc: 0.9996 - val_loss: 0.1226 - val_acc: 0.9605\n",
      "Epoch 95/100\n",
      "2851/2851 [==============================] - 2s 796us/step - loss: 0.0053 - acc: 0.9993 - val_loss: 0.1224 - val_acc: 0.9605\n",
      "Epoch 96/100\n",
      "2851/2851 [==============================] - 2s 790us/step - loss: 0.0047 - acc: 0.9989 - val_loss: 0.1218 - val_acc: 0.9621\n",
      "Epoch 97/100\n",
      "2851/2851 [==============================] - 2s 785us/step - loss: 0.0053 - acc: 0.9996 - val_loss: 0.1232 - val_acc: 0.9595\n",
      "Epoch 98/100\n",
      "2851/2851 [==============================] - 2s 795us/step - loss: 0.0057 - acc: 0.9993 - val_loss: 0.1132 - val_acc: 0.9621\n",
      "Epoch 99/100\n",
      "2851/2851 [==============================] - 2s 795us/step - loss: 0.0044 - acc: 0.9989 - val_loss: 0.1175 - val_acc: 0.9648\n",
      "Epoch 100/100\n",
      "2851/2851 [==============================] - 2s 776us/step - loss: 0.0067 - acc: 0.9989 - val_loss: 0.1169 - val_acc: 0.9611\n"
     ]
    },
    {
     "data": {
      "text/plain": [
       "<keras.callbacks.History at 0x28f5453fc88>"
      ]
     },
     "execution_count": 11,
     "metadata": {},
     "output_type": "execute_result"
    }
   ],
   "source": [
    "model.fit(X_tr, y_tr, batch_size=100, epochs=100, verbose=1, validation_data=(X_ts, y_ts))\n"
   ]
  },
  {
   "cell_type": "markdown",
   "metadata": {},
   "source": [
    "## Test the Model With a New Audio File \n",
    "\n",
    "Using Pyaudio, a new 1 second audio file with a sampling rate of 16000 was recorded and saved. The recorded audio file can be played below. Then the MFCC of the new audio file is found using Librosa. This is reshaped and the model created above is used to predict whether the audio file is of a person saying 'yes' or saying 'no. The predicted value to rounded to either a 1 or a 0 and the respective word is printed.  "
   ]
  },
  {
   "cell_type": "code",
   "execution_count": 12,
   "metadata": {},
   "outputs": [
    {
     "name": "stdout",
     "output_type": "stream",
     "text": [
      "Start Recording\n",
      "Done\n"
     ]
    },
    {
     "data": {
      "text/html": [
       "\n",
       "                <audio controls=\"controls\" >\n",
       "                    <source src=\"data:audio/wav;base64,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\" type=\"audio/wav\" />\n",
       "                    Your browser does not support the audio element.\n",
       "                </audio>\n",
       "              "
      ],
      "text/plain": [
       "<IPython.lib.display.Audio object>"
      ]
     },
     "execution_count": 12,
     "metadata": {},
     "output_type": "execute_result"
    }
   ],
   "source": [
    "from IPython.display import Audio\n",
    "import pyaudio\n",
    "import wave\n",
    "\n",
    "duration = 1  # seconds\n",
    "FORMAT = pyaudio.paInt16\n",
    "CHANNELS = 1\n",
    "RATE = 16000\n",
    "DURATION = 1\n",
    "BLOCKSIZE = 1024\n",
    "WAVE_OUTPUT_FILENAME = \"audio_samp.wav\"\n",
    "\n",
    "p = pyaudio.PyAudio()\n",
    "\n",
    "stream = p.open(format=FORMAT,\n",
    "                channels=CHANNELS,\n",
    "                rate=RATE,\n",
    "                input=True,\n",
    "                frames_per_buffer=BLOCKSIZE)\n",
    "\n",
    "print(\"Start Recording\")\n",
    "\n",
    "frames = []\n",
    "\n",
    "for i in range(0, int(RATE / BLOCKSIZE * DURATION)):\n",
    "    data = stream.read(BLOCKSIZE)\n",
    "    frames.append(data)\n",
    "\n",
    "print(\"Done\")\n",
    "\n",
    "stream.stop_stream()\n",
    "stream.close()\n",
    "p.terminate()\n",
    "\n",
    "wf = wave.open(WAVE_OUTPUT_FILENAME, 'wb')\n",
    "wf.setnchannels(CHANNELS)\n",
    "wf.setsampwidth(p.get_sample_size(FORMAT))\n",
    "wf.setframerate(RATE)\n",
    "wf.writeframes(b''.join(frames))\n",
    "wf.close()\n",
    "\n",
    "fn_samp = \"C:\\\\Anaconda3\\\\Scripts\\\\audio_samp.wav\"\n",
    "Audio(fn_samp, rate=RATE)"
   ]
  },
  {
   "cell_type": "code",
   "execution_count": 13,
   "metadata": {},
   "outputs": [
    {
     "name": "stdout",
     "output_type": "stream",
     "text": [
      "You said NO\n"
     ]
    }
   ],
   "source": [
    "fn_samp = \"C:\\\\Anaconda3\\\\Scripts\\\\audio_samp.wav\"\n",
    "mfcc_vec = np.empty((1,20,11))\n",
    "\n",
    "y, sr = librosa.load(fn_samp, mono=True, sr=None)\n",
    "y = y[::3]\n",
    "S = librosa.feature.mfcc(y, sr=16000)\n",
    "pad = 11-S.shape[1]\n",
    "S = np.pad(S,pad_width=((0,0),(0,pad)), mode='constant')\n",
    "mfcc_samp = S\n",
    "\n",
    "sample_reshaped = mfcc_samp.reshape(1, 20, 11, 1)\n",
    "\n",
    "output = np.around(model.predict(sample_reshaped))\n",
    "\n",
    "if (output == 1):\n",
    "    print(\"You said YES\")\n",
    "if (output == 0):\n",
    "    print(\"You said NO\")"
   ]
  },
  {
   "cell_type": "code",
   "execution_count": null,
   "metadata": {
    "collapsed": true
   },
   "outputs": [],
   "source": []
  }
 ],
 "metadata": {
  "kernelspec": {
   "display_name": "Python 3",
   "language": "python",
   "name": "python3"
  },
  "language_info": {
   "codemirror_mode": {
    "name": "ipython",
    "version": 3
   },
   "file_extension": ".py",
   "mimetype": "text/x-python",
   "name": "python",
   "nbconvert_exporter": "python",
   "pygments_lexer": "ipython3",
   "version": "3.6.1"
  }
 },
 "nbformat": 4,
 "nbformat_minor": 2
}
