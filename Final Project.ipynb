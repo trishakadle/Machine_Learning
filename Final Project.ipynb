{
 "cells": [
  {
   "cell_type": "markdown",
   "metadata": {},
   "source": [
    "# Speech Recognition Between YES and NO\n",
    "Using the Librosa and the Conv2D package in Keras, make a prediction on whether someone has said the word 'yes' or the word 'no'\n",
    "\n",
    "First, I loaded Keras and the necessary Keras packages:"
   ]
  },
  {
   "cell_type": "code",
   "execution_count": 1,
   "metadata": {},
   "outputs": [
    {
     "name": "stderr",
     "output_type": "stream",
     "text": [
      "Using TensorFlow backend.\n"
     ]
    }
   ],
   "source": [
    "import keras"
   ]
  },
  {
   "cell_type": "code",
   "execution_count": 2,
   "metadata": {
    "collapsed": true
   },
   "outputs": [],
   "source": [
    "import librosa\n",
    "import librosa.display\n",
    "import librosa.feature"
   ]
  },
  {
   "cell_type": "code",
   "execution_count": 3,
   "metadata": {
    "collapsed": true
   },
   "outputs": [],
   "source": [
    "import numpy as np \n",
    "import os\n",
    "#import random"
   ]
  },
  {
   "cell_type": "markdown",
   "metadata": {},
   "source": [
    "## Obtaining the Dataset\n",
    "\n",
    "The dataset was obtained from the Google Research Blog. Here is the link to the blog: https://research.googleblog.com/2017/08/launching-speech-commands-dataset.html\n",
    "\n",
    "The dataset was downloaded as a .tar file so the file had to be untarred for the correct data to be extracted. The file contained many other words but only the 'yes' and 'no' folders were used for this project. The 'yes' and 'no' folders were copied into my local directory. The path to each audio file inside each folder were loaded into an array and that array was concatenated into one large array.\n"
   ]
  },
  {
   "cell_type": "code",
   "execution_count": 4,
   "metadata": {},
   "outputs": [],
   "source": [
    "directory_in_str = (\"C:\\\\Users\\\\Trisha Kadle\\\\Documents\\\\Machine_Learning\\\\New folder\\\\yes\")\n",
    "fn = []\n",
    "directory_in_str1 = (\"C:\\\\Users\\\\Trisha Kadle\\\\Documents\\\\Machine_Learning\\\\New folder\\\\no\")\n",
    "fn1 = []\n",
    "\n",
    "fn2 = []\n",
    "\n",
    "directory = os.fsencode(directory_in_str) \n",
    "for file in os.listdir(directory): \n",
    "    filename = os.fsdecode(file)\n",
    "    if filename.endswith(\".wav\"): \n",
    "        fn.append(os.path.join(directory_in_str, filename))\n",
    "        \n",
    "directory1 = os.fsencode(directory_in_str1) \n",
    "for file in os.listdir(directory1): \n",
    "    filename1 = os.fsdecode(file)\n",
    "    if filename1.endswith(\".wav\"): \n",
    "        fn1.append(os.path.join(directory_in_str1, filename1))\n",
    "\n",
    "fn2 = np.concatenate((fn, fn1),axis = 0)"
   ]
  },
  {
   "cell_type": "markdown",
   "metadata": {},
   "source": [
    "## Getting the MFCC \n",
    "\n",
    "A model for speech recognition was found in this blog: \n",
    "https://blog.manash.me/building-a-dead-simple-word-recognition-engine-using-convnet-in-keras-25e72c19c12b\n",
    "Modifications were made to how the mfcc_vec was created, how the yes_or_no label array was created and how the CNN was constructed.\n",
    "\n",
    "For each audio file the MFCC (Mel-freqeuncy cepstral coefficients) had to be found. The MFCC are coefficients that easily map audio based on the different frequencies present in the audio. The following steps were taken to find the MFCC:\n",
    "* Each audio file in fn2 was loaded using Librosa\n",
    "* A downsample operation was performed to reduce the amount of computation needed\n",
    "* The MFCC was found using Librosa\n",
    "* The MFCC vector was zero padded to so that respective MFCC vectors would be the same length\n",
    "* The MFCC for the samples were saved in a larger MFCC_vec containing the MFCC values for all the audio samples\n"
   ]
  },
  {
   "cell_type": "code",
   "execution_count": 5,
   "metadata": {},
   "outputs": [],
   "source": [
    "mfcc_vec = np.empty((len(fn2),20,11))\n",
    "\n",
    "for file in range(len(fn2)):\n",
    "    y, sr = librosa.load(fn2[file], mono=True, sr=None)\n",
    "    y = y[::3]\n",
    "    S = librosa.feature.mfcc(y, sr=16000)\n",
    "    pad = 11-S.shape[1]\n",
    "    S = np.pad(S,pad_width=((0,0),(0,pad)), mode='constant')\n",
    "    mfcc_vec[file] = np.r_[S]\n",
    "                "
   ]
  },
  {
   "cell_type": "markdown",
   "metadata": {},
   "source": [
    "## Create a 'Labels' Array\n",
    "\n",
    "An array containing the labels for each audio sample was created. If the audio sample was a 'yes', the corresponding label would be a 1. If the audio sample was a 'no', the corresponding label would be a 0. The number of yes and no labels to add were based on the length of the arrays containing to paths to each 'yes' and 'no' audio files. "
   ]
  },
  {
   "cell_type": "code",
   "execution_count": 6,
   "metadata": {
    "collapsed": true
   },
   "outputs": [],
   "source": [
    "yes_and_no_labels = []\n",
    "yes_labels = np.full(len(fn), 1)\n",
    "no_labels = np.full(len(fn1), 0)\n",
    "yes_and_no_labels = np.concatenate((yes_labels,no_labels),axis = 0)"
   ]
  },
  {
   "cell_type": "markdown",
   "metadata": {},
   "source": [
    "## Create Training and Test Data\n",
    "\n",
    "The sklearn package was used to create the training and test data. The built in function train_test_split was used to appropariately shuffle and then split the total data into 60% training data and 40% test data.\n",
    "(The default value of shuffle is TRUE in the train_test_split function) "
   ]
  },
  {
   "cell_type": "code",
   "execution_count": 7,
   "metadata": {},
   "outputs": [],
   "source": [
    "import sklearn.model_selection\n",
    "from sklearn.model_selection import train_test_split\n",
    "X_tr, X_ts, y_tr, y_ts = train_test_split(mfcc_vec, yes_and_no_labels, test_size=0.4)\n"
   ]
  },
  {
   "cell_type": "markdown",
   "metadata": {},
   "source": [
    "## Reshaping the data\n",
    "\n",
    "In order to train the data using Conv2D, the data had to be reshaped to be four dimensional. To do this, the reshape function was used to add a fourth dimension to the already existing shape of (number_of_samples, 20, 11). "
   ]
  },
  {
   "cell_type": "code",
   "execution_count": 8,
   "metadata": {},
   "outputs": [],
   "source": [
    "from keras.utils import to_categorical\n",
    "\n",
    "X_tr = X_tr.reshape(X_tr.shape[0], 20, 11, 1)\n",
    "X_ts = X_ts.reshape(X_ts.shape[0], 20, 11, 1)\n"
   ]
  },
  {
   "cell_type": "markdown",
   "metadata": {},
   "source": [
    "## Training the Data\n",
    "\n",
    "The appropriate functions were loaded from Keras. \n",
    "Conv2D was used with two dense layers. The final layer has 1 output and uses a sigmoid activation because it is a binary classification problem. The optimizer chosen was the Adam opitmizer and binary crossentropy was used because the desired results is either a 0 or 1. The model summary is printed below. "
   ]
  },
  {
   "cell_type": "code",
   "execution_count": 9,
   "metadata": {
    "collapsed": true
   },
   "outputs": [],
   "source": [
    "from keras.models import Model, Sequential\n",
    "from keras.layers import Conv2D, Dropout, Flatten, Dense, Activation\n",
    "from keras import optimizers"
   ]
  },
  {
   "cell_type": "code",
   "execution_count": 10,
   "metadata": {
    "scrolled": true
   },
   "outputs": [
    {
     "name": "stdout",
     "output_type": "stream",
     "text": [
      "_________________________________________________________________\n",
      "Layer (type)                 Output Shape              Param #   \n",
      "=================================================================\n",
      "conv2d_1 (Conv2D)            (None, 19, 10, 32)        160       \n",
      "_________________________________________________________________\n",
      "dropout_1 (Dropout)          (None, 19, 10, 32)        0         \n",
      "_________________________________________________________________\n",
      "flatten_1 (Flatten)          (None, 6080)              0         \n",
      "_________________________________________________________________\n",
      "dense_1 (Dense)              (None, 128)               778368    \n",
      "_________________________________________________________________\n",
      "dropout_2 (Dropout)          (None, 128)               0         \n",
      "_________________________________________________________________\n",
      "dense_2 (Dense)              (None, 1)                 129       \n",
      "=================================================================\n",
      "Total params: 778,657\n",
      "Trainable params: 778,657\n",
      "Non-trainable params: 0\n",
      "_________________________________________________________________\n"
     ]
    }
   ],
   "source": [
    "model = Sequential()\n",
    "model.add(Conv2D(32, kernel_size=(2, 2), activation='relu', input_shape=(20, 11, 1)))\n",
    "model.add(Dropout(0.25))\n",
    "model.add(Flatten())\n",
    "model.add(Dense(128, activation='sigmoid'))\n",
    "model.add(Dropout(0.25))\n",
    "model.add(Dense(1, activation='sigmoid'))\n",
    "\n",
    "opt = optimizers.Adam(lr=0.001) # beta_1=0.9, beta_2=0.999, epsilon=1e-08, decay=0.0)\n",
    "model.compile(optimizer=opt,\n",
    "              loss='binary_crossentropy',\n",
    "              metrics=['accuracy'])\n",
    "\n",
    "model.summary()\n"
   ]
  },
  {
   "cell_type": "markdown",
   "metadata": {},
   "source": [
    "## Getting the Model Accruacy \n",
    "\n",
    "The model created above was then used to test the remaining data. 50 Epochs were used with a batch size of 100. The model ends with a final validation accuracy above 95%."
   ]
  },
  {
   "cell_type": "code",
   "execution_count": 11,
   "metadata": {},
   "outputs": [
    {
     "name": "stdout",
     "output_type": "stream",
     "text": [
      "Train on 2851 samples, validate on 1901 samples\n",
      "Epoch 1/50\n",
      "2851/2851 [==============================] - 3s 1ms/step - loss: 0.5243 - acc: 0.7447 - val_loss: 0.3429 - val_acc: 0.8764\n",
      "Epoch 2/50\n",
      "2851/2851 [==============================] - 2s 817us/step - loss: 0.3510 - acc: 0.8632 - val_loss: 0.2860 - val_acc: 0.8890\n",
      "Epoch 3/50\n",
      "2851/2851 [==============================] - 2s 843us/step - loss: 0.2925 - acc: 0.8930 - val_loss: 0.2451 - val_acc: 0.9085\n",
      "Epoch 4/50\n",
      "2851/2851 [==============================] - 3s 896us/step - loss: 0.2564 - acc: 0.8976 - val_loss: 0.2274 - val_acc: 0.9116\n",
      "Epoch 5/50\n",
      "2851/2851 [==============================] - 2s 827us/step - loss: 0.2342 - acc: 0.9063 - val_loss: 0.2156 - val_acc: 0.9148\n",
      "Epoch 6/50\n",
      "2851/2851 [==============================] - 2s 824us/step - loss: 0.2183 - acc: 0.9151 - val_loss: 0.2041 - val_acc: 0.9195\n",
      "Epoch 7/50\n",
      "2851/2851 [==============================] - 2s 818us/step - loss: 0.2147 - acc: 0.9211 - val_loss: 0.2026 - val_acc: 0.9221\n",
      "Epoch 8/50\n",
      "2851/2851 [==============================] - 2s 824us/step - loss: 0.2034 - acc: 0.9197 - val_loss: 0.1921 - val_acc: 0.9195\n",
      "Epoch 9/50\n",
      "2851/2851 [==============================] - 2s 824us/step - loss: 0.1856 - acc: 0.9327 - val_loss: 0.1913 - val_acc: 0.9221\n",
      "Epoch 10/50\n",
      "2851/2851 [==============================] - 2s 825us/step - loss: 0.1737 - acc: 0.9330 - val_loss: 0.1700 - val_acc: 0.9348\n",
      "Epoch 11/50\n",
      "2851/2851 [==============================] - 2s 841us/step - loss: 0.1567 - acc: 0.9404 - val_loss: 0.1716 - val_acc: 0.9300\n",
      "Epoch 12/50\n",
      "2851/2851 [==============================] - 2s 824us/step - loss: 0.1410 - acc: 0.9498 - val_loss: 0.1574 - val_acc: 0.9379\n",
      "Epoch 13/50\n",
      "2851/2851 [==============================] - 2s 820us/step - loss: 0.1445 - acc: 0.9460 - val_loss: 0.1608 - val_acc: 0.9369\n",
      "Epoch 14/50\n",
      "2851/2851 [==============================] - 2s 818us/step - loss: 0.1349 - acc: 0.9530 - val_loss: 0.1586 - val_acc: 0.9337\n",
      "Epoch 15/50\n",
      "2851/2851 [==============================] - 2s 830us/step - loss: 0.1241 - acc: 0.9551 - val_loss: 0.1531 - val_acc: 0.9395\n",
      "Epoch 16/50\n",
      "2851/2851 [==============================] - 2s 825us/step - loss: 0.1143 - acc: 0.9611 - val_loss: 0.1559 - val_acc: 0.9390\n",
      "Epoch 17/50\n",
      "2851/2851 [==============================] - 2s 834us/step - loss: 0.1137 - acc: 0.9579 - val_loss: 0.1462 - val_acc: 0.9379\n",
      "Epoch 18/50\n",
      "2851/2851 [==============================] - 2s 809us/step - loss: 0.1014 - acc: 0.9649 - val_loss: 0.1395 - val_acc: 0.9453\n",
      "Epoch 19/50\n",
      "2851/2851 [==============================] - 2s 823us/step - loss: 0.1000 - acc: 0.9660 - val_loss: 0.1355 - val_acc: 0.9448\n",
      "Epoch 20/50\n",
      "2851/2851 [==============================] - 2s 822us/step - loss: 0.0982 - acc: 0.9649 - val_loss: 0.1368 - val_acc: 0.9469\n",
      "Epoch 21/50\n",
      "2851/2851 [==============================] - 2s 826us/step - loss: 0.0866 - acc: 0.9740 - val_loss: 0.1298 - val_acc: 0.9469\n",
      "Epoch 22/50\n",
      "2851/2851 [==============================] - 2s 813us/step - loss: 0.0846 - acc: 0.9730 - val_loss: 0.1314 - val_acc: 0.9484\n",
      "Epoch 23/50\n",
      "2851/2851 [==============================] - 2s 835us/step - loss: 0.0741 - acc: 0.9783 - val_loss: 0.1255 - val_acc: 0.9506\n",
      "Epoch 24/50\n",
      "2851/2851 [==============================] - 2s 825us/step - loss: 0.0747 - acc: 0.9740 - val_loss: 0.1305 - val_acc: 0.9469\n",
      "Epoch 25/50\n",
      "2851/2851 [==============================] - 2s 829us/step - loss: 0.0724 - acc: 0.9758 - val_loss: 0.1356 - val_acc: 0.9453\n",
      "Epoch 26/50\n",
      "2851/2851 [==============================] - 2s 836us/step - loss: 0.0709 - acc: 0.9754 - val_loss: 0.1246 - val_acc: 0.9527\n",
      "Epoch 27/50\n",
      "2851/2851 [==============================] - 2s 836us/step - loss: 0.0672 - acc: 0.9783 - val_loss: 0.1220 - val_acc: 0.9506\n",
      "Epoch 28/50\n",
      "2851/2851 [==============================] - 2s 813us/step - loss: 0.0676 - acc: 0.9779 - val_loss: 0.1246 - val_acc: 0.9516\n",
      "Epoch 29/50\n",
      "2851/2851 [==============================] - 2s 823us/step - loss: 0.0632 - acc: 0.9811 - val_loss: 0.1201 - val_acc: 0.9527\n",
      "Epoch 30/50\n",
      "2851/2851 [==============================] - 2s 815us/step - loss: 0.0599 - acc: 0.9832 - val_loss: 0.1183 - val_acc: 0.9563\n",
      "Epoch 31/50\n",
      "2851/2851 [==============================] - 2s 822us/step - loss: 0.0538 - acc: 0.9856 - val_loss: 0.1123 - val_acc: 0.9574\n",
      "Epoch 32/50\n",
      "2851/2851 [==============================] - 2s 830us/step - loss: 0.0516 - acc: 0.9849 - val_loss: 0.1244 - val_acc: 0.9569\n",
      "Epoch 33/50\n",
      "2851/2851 [==============================] - 2s 819us/step - loss: 0.0533 - acc: 0.9839 - val_loss: 0.1156 - val_acc: 0.9563\n",
      "Epoch 34/50\n",
      "2851/2851 [==============================] - 2s 843us/step - loss: 0.0420 - acc: 0.9884 - val_loss: 0.1203 - val_acc: 0.9558\n",
      "Epoch 35/50\n",
      "2851/2851 [==============================] - 2s 811us/step - loss: 0.0413 - acc: 0.9884 - val_loss: 0.1168 - val_acc: 0.9574\n",
      "Epoch 36/50\n",
      "2851/2851 [==============================] - 2s 813us/step - loss: 0.0422 - acc: 0.9874 - val_loss: 0.1165 - val_acc: 0.9569\n",
      "Epoch 37/50\n",
      "2851/2851 [==============================] - 2s 818us/step - loss: 0.0389 - acc: 0.9902 - val_loss: 0.1164 - val_acc: 0.9553\n",
      "Epoch 38/50\n",
      "2851/2851 [==============================] - 2s 813us/step - loss: 0.0376 - acc: 0.9898 - val_loss: 0.1120 - val_acc: 0.9584\n",
      "Epoch 39/50\n",
      "2851/2851 [==============================] - 2s 819us/step - loss: 0.0341 - acc: 0.9881 - val_loss: 0.1146 - val_acc: 0.9574\n",
      "Epoch 40/50\n",
      "2851/2851 [==============================] - 2s 805us/step - loss: 0.0319 - acc: 0.9888 - val_loss: 0.1121 - val_acc: 0.9595\n",
      "Epoch 41/50\n",
      "2851/2851 [==============================] - 2s 818us/step - loss: 0.0331 - acc: 0.9902 - val_loss: 0.1085 - val_acc: 0.9579\n",
      "Epoch 42/50\n",
      "2851/2851 [==============================] - 2s 807us/step - loss: 0.0308 - acc: 0.9930 - val_loss: 0.1073 - val_acc: 0.9621\n",
      "Epoch 43/50\n",
      "2851/2851 [==============================] - 2s 818us/step - loss: 0.0326 - acc: 0.9905 - val_loss: 0.1128 - val_acc: 0.9584\n",
      "Epoch 44/50\n",
      "2851/2851 [==============================] - 2s 812us/step - loss: 0.0277 - acc: 0.9944 - val_loss: 0.1147 - val_acc: 0.9600\n",
      "Epoch 45/50\n",
      "2851/2851 [==============================] - 2s 835us/step - loss: 0.0288 - acc: 0.9933 - val_loss: 0.1110 - val_acc: 0.9595\n",
      "Epoch 46/50\n",
      "2851/2851 [==============================] - 2s 797us/step - loss: 0.0246 - acc: 0.9940 - val_loss: 0.1143 - val_acc: 0.9579\n",
      "Epoch 47/50\n",
      "2851/2851 [==============================] - 2s 792us/step - loss: 0.0245 - acc: 0.9947 - val_loss: 0.1094 - val_acc: 0.9569\n",
      "Epoch 48/50\n",
      "2851/2851 [==============================] - 2s 796us/step - loss: 0.0238 - acc: 0.9944 - val_loss: 0.1123 - val_acc: 0.9584\n",
      "Epoch 49/50\n",
      "2851/2851 [==============================] - 2s 808us/step - loss: 0.0182 - acc: 0.9975 - val_loss: 0.1102 - val_acc: 0.9621\n",
      "Epoch 50/50\n",
      "2851/2851 [==============================] - 2s 800us/step - loss: 0.0211 - acc: 0.9944 - val_loss: 0.1108 - val_acc: 0.9600\n"
     ]
    },
    {
     "data": {
      "text/plain": [
       "<keras.callbacks.History at 0x1b8c864ae48>"
      ]
     },
     "execution_count": 11,
     "metadata": {},
     "output_type": "execute_result"
    }
   ],
   "source": [
    "model.fit(X_tr, y_tr, batch_size=100, epochs=50, verbose=1, validation_data=(X_ts, y_ts))\n"
   ]
  },
  {
   "cell_type": "markdown",
   "metadata": {},
   "source": [
    "## Test the Model With a New Audio File \n",
    "\n",
    "Using Pyaudio, a new 1 second audio file with a sampling rate of 16000 was recorded and saved. The recorded audio file can be played below. Then the MFCC of the new audio file is found using Librosa. This is reshaped and the model created above is used to predict whether the audio file is of a person saying 'yes' or saying 'no'. The predicted value is rounded to either a 1 or a 0 and the respective word is printed.  "
   ]
  },
  {
   "cell_type": "code",
   "execution_count": 14,
   "metadata": {},
   "outputs": [
    {
     "name": "stdout",
     "output_type": "stream",
     "text": [
      "Start Recording\n",
      "Done\n"
     ]
    },
    {
     "data": {
      "text/html": [
       "\n",
       "                <audio controls=\"controls\" >\n",
       "                    <source src=\"data:audio/wav;base64,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\" type=\"audio/wav\" />\n",
       "                    Your browser does not support the audio element.\n",
       "                </audio>\n",
       "              "
      ],
      "text/plain": [
       "<IPython.lib.display.Audio object>"
      ]
     },
     "execution_count": 14,
     "metadata": {},
     "output_type": "execute_result"
    }
   ],
   "source": [
    "from IPython.display import Audio\n",
    "import pyaudio\n",
    "import wave\n",
    "\n",
    "duration = 1  # seconds\n",
    "FORMAT = pyaudio.paInt16\n",
    "CHANNELS = 1\n",
    "RATE = 16000\n",
    "DURATION = 1\n",
    "BLOCKSIZE = 1024\n",
    "WAVE_OUTPUT_FILENAME = \"audio_samp.wav\"\n",
    "\n",
    "p = pyaudio.PyAudio()\n",
    "\n",
    "stream = p.open(format=FORMAT,\n",
    "                channels=CHANNELS,\n",
    "                rate=RATE,\n",
    "                input=True,\n",
    "                frames_per_buffer=BLOCKSIZE)\n",
    "\n",
    "print(\"Start Recording\")\n",
    "\n",
    "frames = []\n",
    "\n",
    "for i in range(0, int(RATE / BLOCKSIZE * DURATION)):\n",
    "    data = stream.read(BLOCKSIZE)\n",
    "    frames.append(data)\n",
    "\n",
    "print(\"Done\")\n",
    "\n",
    "stream.stop_stream()\n",
    "stream.close()\n",
    "p.terminate()\n",
    "\n",
    "wf = wave.open(WAVE_OUTPUT_FILENAME, 'wb')\n",
    "wf.setnchannels(CHANNELS)\n",
    "wf.setsampwidth(p.get_sample_size(FORMAT))\n",
    "wf.setframerate(RATE)\n",
    "wf.writeframes(b''.join(frames))\n",
    "wf.close()\n",
    "\n",
    "fn_samp = \"C:\\\\Anaconda3\\\\Scripts\\\\audio_samp.wav\"\n",
    "Audio(fn_samp, rate=RATE)"
   ]
  },
  {
   "cell_type": "code",
   "execution_count": 15,
   "metadata": {},
   "outputs": [
    {
     "name": "stdout",
     "output_type": "stream",
     "text": [
      "You said YES\n"
     ]
    }
   ],
   "source": [
    "fn_samp = \"C:\\\\Anaconda3\\\\Scripts\\\\audio_samp.wav\"\n",
    "mfcc_vec = np.empty((1,20,11))\n",
    "\n",
    "y, sr = librosa.load(fn_samp, mono=True, sr=None)\n",
    "y = y[::3]\n",
    "S = librosa.feature.mfcc(y, sr=16000)\n",
    "pad = 11-S.shape[1]\n",
    "S = np.pad(S,pad_width=((0,0),(0,pad)), mode='constant')\n",
    "mfcc_samp = S\n",
    "\n",
    "sample_reshaped = mfcc_samp.reshape(1, 20, 11, 1)\n",
    "\n",
    "output = model.predict(sample_reshaped)\n",
    "yes_or_no = np.around(output)\n",
    "\n",
    "if (yes_or_no == 1):\n",
    "    print(\"You said YES\")\n",
    "    \n",
    "if (yes_or_no == 0):\n",
    "    print(\"You said NO\")"
   ]
  }
 ],
 "metadata": {
  "kernelspec": {
   "display_name": "Python 3",
   "language": "python",
   "name": "python3"
  },
  "language_info": {
   "codemirror_mode": {
    "name": "ipython",
    "version": 3
   },
   "file_extension": ".py",
   "mimetype": "text/x-python",
   "name": "python",
   "nbconvert_exporter": "python",
   "pygments_lexer": "ipython3",
   "version": "3.6.1"
  }
 },
 "nbformat": 4,
 "nbformat_minor": 2
}
